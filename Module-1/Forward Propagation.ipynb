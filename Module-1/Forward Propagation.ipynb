{
 "cells": [
  {
   "cell_type": "markdown",
   "metadata": {},
   "source": [
    "<h1 align=center><font size = 5>Artificial Neural Networks - Forward Propagation</font></h1>"
   ]
  },
  {
   "cell_type": "markdown",
   "metadata": {},
   "source": [
    "Obviously, neural networks for real problems are composed of many hidden layers and many more nodes in each layer. So, we can't continue making predictions using this very inefficient approach of computing the weighted sum at each node and the activation of each node manually. "
   ]
  },
  {
   "cell_type": "markdown",
   "metadata": {},
   "source": [
    "In order to code an automatic way of making predictions, let's generalize our network. A general network would take $n$ inputs, would have many hidden layers, each hidden layer having $m$ nodes, and would have an output layer. Although the network is showing one hidden layer, but we will code the network to have many hidden layers. Similarly, although the network shows an output layer with one node, we will code the network to have more than one node in the output layer."
   ]
  },
  {
   "cell_type": "markdown",
   "metadata": {},
   "source": [
    "<img src=\"http://cocl.us/general_neural_network\" alt=\"Neural Network General\" width=600px>"
   ]
  },
  {
   "cell_type": "markdown",
   "metadata": {},
   "source": [
    "  "
   ]
  },
  {
   "cell_type": "markdown",
   "metadata": {},
   "source": [
    "<a id=\"item2\"></a>"
   ]
  },
  {
   "cell_type": "markdown",
   "metadata": {},
   "source": [
    "## Initialize a Network"
   ]
  },
  {
   "cell_type": "code",
   "execution_count": 8,
   "metadata": {},
   "outputs": [],
   "source": [
    "from random import seed\n",
    "import numpy as np"
   ]
  },
  {
   "cell_type": "code",
   "execution_count": 2,
   "metadata": {},
   "outputs": [],
   "source": [
    "n = 2 # number of inputs\n",
    "num_hidden_layers = 2 # number of hidden layers\n",
    "m = [2, 2] # number of nodes in each hidden layer\n",
    "num_nodes_output = 1 # number of nodes in the output layer"
   ]
  },
  {
   "cell_type": "markdown",
   "metadata": {},
   "source": [
    "Now that we defined the structure of the network, let's go ahead and inititailize the weights and the biases in the network to random numbers. In order to be able to initialize the weights and the biases to random numbers, we will need to import the **Numpy** library."
   ]
  },
  {
   "cell_type": "code",
   "execution_count": 3,
   "metadata": {},
   "outputs": [
    {
     "name": "stdout",
     "output_type": "stream",
     "text": [
      "{'layer_1': {'node_1': {'weights': array([0.65, 0.26]), 'bias': array([0.82])}, 'node_2': {'weights': array([0.49, 0.82]), 'bias': array([0.69])}}, 'layer_2': {'node_1': {'weights': array([0.71, 0.16]), 'bias': array([0.47])}, 'node_2': {'weights': array([0.26, 0.47]), 'bias': array([0.5])}}, 'output': {'node_1': {'weights': array([0.95, 0.37]), 'bias': array([0.98])}}}\n"
     ]
    }
   ],
   "source": [
    "import numpy as np # import the Numpy library\n",
    "\n",
    "num_nodes_previous = n # number of nodes in the previous layer\n",
    "\n",
    "network = {} # initialize network an an empty dictionary\n",
    "\n",
    "# loop through each layer and randomly initialize the weights and biases associated with each node\n",
    "# notice how we are adding 1 to the number of hidden layers in order to include the output layer\n",
    "for layer in range(num_hidden_layers + 1): \n",
    "    \n",
    "    # determine name of layer\n",
    "    if layer == num_hidden_layers:\n",
    "        layer_name = 'output'\n",
    "        num_nodes = num_nodes_output\n",
    "    else:\n",
    "        layer_name = 'layer_{}'.format(layer + 1)\n",
    "        num_nodes = m[layer]\n",
    "    \n",
    "    # initialize weights and biases associated with each node in the current layer\n",
    "    network[layer_name] = {}\n",
    "    for node in range(num_nodes):\n",
    "        node_name = 'node_{}'.format(node+1)\n",
    "        network[layer_name][node_name] = {\n",
    "            'weights': np.around(np.random.uniform(size=num_nodes_previous), decimals=2),\n",
    "            'bias': np.around(np.random.uniform(size=1), decimals=2),\n",
    "        }\n",
    "    \n",
    "    num_nodes_previous = num_nodes\n",
    "    \n",
    "print(network) # print network"
   ]
  },
  {
   "cell_type": "markdown",
   "metadata": {},
   "source": [
    "Awesome! So now with the above code, we are able to initialize the weights and the biases pertaining to any network of any number of hidden layers and number of nodes in each layer. But let's put this code in a function so that we are able to repetitively execute all this code whenever we want to construct a neural network.\n"
   ]
  },
  {
   "cell_type": "code",
   "execution_count": 5,
   "metadata": {},
   "outputs": [],
   "source": [
    "def initialize_network(num_inputs, num_hidden_layers, num_nodes_hidden, num_nodes_output):\n",
    "    \n",
    "    num_nodes_previous = num_inputs # number of nodes in the previous layer\n",
    "\n",
    "    network = {}\n",
    "    \n",
    "    # loop through each layer and randomly initialize the weights and biases associated with each layer\n",
    "    for layer in range(num_hidden_layers + 1):\n",
    "        \n",
    "        if layer == num_hidden_layers:\n",
    "            layer_name = 'output' # name last layer in the network output\n",
    "            num_nodes = num_nodes_output\n",
    "        else:\n",
    "            layer_name = 'layer_{}'.format(layer + 1) # otherwise give the layer a number\n",
    "            num_nodes = num_nodes_hidden[layer] \n",
    "        \n",
    "        # initialize weights and bias for each node\n",
    "        network[layer_name] = {}\n",
    "        for node in range(num_nodes):\n",
    "            node_name = 'node_{}'.format(node+1)\n",
    "            network[layer_name][node_name] = {\n",
    "                'weights': np.around(np.random.uniform(size=num_nodes_previous), decimals=2),\n",
    "                'bias': np.around(np.random.uniform(size=1), decimals=2),\n",
    "            }\n",
    "    \n",
    "        num_nodes_previous = num_nodes\n",
    "\n",
    "    return network # return the network"
   ]
  },
  {
   "cell_type": "markdown",
   "metadata": {},
   "source": [
    "#### Use the *initialize_network* function to create a network that:\n",
    "\n",
    "1. takes 5 inputs\n",
    "2. has three hidden layers\n",
    "3. has 3 nodes in the first layer, 2 nodes in the second layer, and 3 nodes in the third layer\n",
    "4. has 1 node in the output layer\n",
    "\n",
    "Call the network **small_network**."
   ]
  },
  {
   "cell_type": "code",
   "execution_count": 6,
   "metadata": {},
   "outputs": [],
   "source": [
    "small_network = initialize_network(5, 5, [5, 4, 3, 4, 5], 1) # 5 input node, 5 hidden layers, 1 output node "
   ]
  },
  {
   "cell_type": "markdown",
   "metadata": {},
   "source": [
    "## Compute Weighted Sum at Each Node"
   ]
  },
  {
   "cell_type": "markdown",
   "metadata": {},
   "source": [
    "The weighted sum at each node is computed as the dot product of the inputs and the weights plus the bias. So let's create a function called *compute_weighted_sum* that does just that."
   ]
  },
  {
   "cell_type": "code",
   "execution_count": 7,
   "metadata": {},
   "outputs": [],
   "source": [
    "def compute_weighted_sum(inputs, weights, bias):\n",
    "    return np.sum(inputs * weights) + bias"
   ]
  },
  {
   "cell_type": "markdown",
   "metadata": {},
   "source": [
    "Let's generate 5 inputs that we can feed to **small_network**."
   ]
  },
  {
   "cell_type": "code",
   "execution_count": 9,
   "metadata": {},
   "outputs": [
    {
     "name": "stdout",
     "output_type": "stream",
     "text": [
      "The inputs to the network are [0.15 0.74 0.26 0.53 0.01]\n"
     ]
    }
   ],
   "source": [
    "np.random.seed(12)\n",
    "inputs = np.around(np.random.uniform(size=5), decimals=2)\n",
    "\n",
    "print('The inputs to the network are {}'.format(inputs))"
   ]
  },
  {
   "cell_type": "markdown",
   "metadata": {},
   "source": [
    "#### Use the *compute_weighted_sum* function to compute the weighted sum at the first node in the first hidden layer."
   ]
  },
  {
   "cell_type": "code",
   "execution_count": 10,
   "metadata": {},
   "outputs": [
    {
     "name": "stdout",
     "output_type": "stream",
     "text": [
      "The weighted sum at the first node in the hidden layer is 1.3387\n"
     ]
    }
   ],
   "source": [
    "node_weights = small_network['layer_1']['node_1']['weights']\n",
    "node_bias = small_network['layer_1']['node_1']['bias']\n",
    "\n",
    "weighted_sum = compute_weighted_sum(inputs, node_weights, node_bias)\n",
    "print('The weighted sum at the first node in the hidden layer is {}'.format(np.around(weighted_sum[0], decimals=4)))"
   ]
  },
  {
   "cell_type": "markdown",
   "metadata": {},
   "source": [
    "## Compute Node Activation"
   ]
  },
  {
   "cell_type": "markdown",
   "metadata": {},
   "source": [
    "Recall that the output of each node is simply a non-linear tranformation of the weighted sum. We use activation functions for this mapping. Let's use the sigmoid function as the activation function here. So let's define a function that takes a weighted sum as input and returns the non-linear transformation of the input using the sigmoid function."
   ]
  },
  {
   "cell_type": "code",
   "execution_count": 11,
   "metadata": {},
   "outputs": [],
   "source": [
    "def node_activation(weighted_sum):\n",
    "    return 1.0 / (1.0 + np.exp(-1 * weighted_sum))"
   ]
  },
  {
   "cell_type": "markdown",
   "metadata": {},
   "source": [
    "#### Use the *node_activation* function to compute the output of the first node in the first hidden layer."
   ]
  },
  {
   "cell_type": "code",
   "execution_count": 13,
   "metadata": {},
   "outputs": [
    {
     "name": "stdout",
     "output_type": "stream",
     "text": [
      "The weighted sum at the first node in the hidden layer is 0.7923\n"
     ]
    }
   ],
   "source": [
    "node_output = node_activation(compute_weighted_sum(inputs, node_weights, node_bias))\n",
    "\n",
    "print('The weighted sum at the first node in the hidden layer is {}'.format(np.around(node_output[0], decimals=4)))"
   ]
  },
  {
   "cell_type": "markdown",
   "metadata": {},
   "source": [
    "## Forward Propagation"
   ]
  },
  {
   "cell_type": "markdown",
   "metadata": {},
   "source": [
    "The final piece of building a neural network that can perform predictions is to put everything together. So let's create a function that applies the *compute_weighted_sum* and *node_activation* functions to each node in the network and propagates the data all the way to the output layer and outputs a prediction for each node in the output layer."
   ]
  },
  {
   "cell_type": "markdown",
   "metadata": {},
   "source": [
    "The way we are going to accomplish this is through the following procedure:\n",
    "\n",
    "1. Start with the input layer as the input to the first hidden layer.\n",
    "2. Compute the weighted sum at the nodes of the current layer.\n",
    "3. Compute the output of the nodes of the current layer.\n",
    "4. Set the output of the current layer to be the input to the next layer.\n",
    "5. Move to the next layer in the network.\n",
    "5. Repeat steps 2 - 4 until we compute the output of the output layer."
   ]
  },
  {
   "cell_type": "code",
   "execution_count": 14,
   "metadata": {},
   "outputs": [],
   "source": [
    "def forward_propagate(network, inputs):\n",
    "    \n",
    "    layer_inputs = list(inputs) # start with the input layer as the input to the first hidden layer\n",
    "    \n",
    "    for layer in network:\n",
    "        \n",
    "        layer_data = network[layer]\n",
    "        \n",
    "        layer_outputs = [] \n",
    "        for layer_node in layer_data:\n",
    "        \n",
    "            node_data = layer_data[layer_node]\n",
    "        \n",
    "            # compute the weighted sum and the output of each node at the same time \n",
    "            node_output = node_activation(compute_weighted_sum(layer_inputs, node_data['weights'], node_data['bias']))\n",
    "            layer_outputs.append(np.around(node_output[0], decimals=4))\n",
    "            \n",
    "        if layer != 'output':\n",
    "            print('The outputs of the nodes in hidden layer number {} is {}'.format(layer.split('_')[1], layer_outputs))\n",
    "    \n",
    "        layer_inputs = layer_outputs # set the output of this layer to be the input to next layer\n",
    "\n",
    "    network_predictions = layer_outputs\n",
    "    return network_predictions"
   ]
  },
  {
   "cell_type": "markdown",
   "metadata": {},
   "source": [
    "#### Use the *forward_propagate* function to compute the prediction of our small network"
   ]
  },
  {
   "cell_type": "code",
   "execution_count": 15,
   "metadata": {},
   "outputs": [
    {
     "name": "stdout",
     "output_type": "stream",
     "text": [
      "The outputs of the nodes in hidden layer number 1 is [0.7923, 0.8804, 0.7877, 0.7957, 0.8076]\n",
      "The outputs of the nodes in hidden layer number 2 is [0.9202, 0.8909, 0.9528, 0.9062]\n",
      "The outputs of the nodes in hidden layer number 3 is [0.8599, 0.9024, 0.8806]\n",
      "The outputs of the nodes in hidden layer number 4 is [0.7239, 0.9368, 0.7291, 0.9188]\n",
      "The outputs of the nodes in hidden layer number 5 is [0.9298, 0.8963, 0.8143, 0.9502, 0.9322]\n",
      "The predicted value by the network for the given input is 0.9401\n"
     ]
    }
   ],
   "source": [
    "predictions = forward_propagate(small_network, inputs)\n",
    "\n",
    "print('The predicted value by the network for the given input is {}'.format(np.around(predictions[0], decimals=4)))"
   ]
  },
  {
   "cell_type": "markdown",
   "metadata": {},
   "source": [
    "So we built the code to define a neural network. We can specify the number of inputs that a neural network can take, the number of hidden layers as well as the number of nodes in each hidden layer, and the number of nodes in the output layer."
   ]
  },
  {
   "cell_type": "markdown",
   "metadata": {},
   "source": [
    "We first use the *initialize_network* to create our neural network and define its weights and biases."
   ]
  },
  {
   "cell_type": "code",
   "execution_count": 17,
   "metadata": {},
   "outputs": [],
   "source": [
    "my_network = initialize_network(5, 5, [5, 40, 30, 40, 5], 7)"
   ]
  },
  {
   "cell_type": "markdown",
   "metadata": {},
   "source": [
    "Then, for a given input,"
   ]
  },
  {
   "cell_type": "code",
   "execution_count": 18,
   "metadata": {},
   "outputs": [],
   "source": [
    "inputs = np.around(np.random.uniform(size=5), decimals=2)"
   ]
  },
  {
   "cell_type": "markdown",
   "metadata": {},
   "source": [
    "we compute the network predictions."
   ]
  },
  {
   "cell_type": "code",
   "execution_count": 19,
   "metadata": {},
   "outputs": [
    {
     "name": "stdout",
     "output_type": "stream",
     "text": [
      "The outputs of the nodes in hidden layer number 1 is [0.8918, 0.9058, 0.9086, 0.8286, 0.9156]\n",
      "The outputs of the nodes in hidden layer number 2 is [0.9367, 0.9731, 0.8952, 0.9113, 0.9702, 0.9359, 0.9645, 0.9612, 0.8968, 0.958, 0.9639, 0.974, 0.9703, 0.9362, 0.8732, 0.9219, 0.8413, 0.8306, 0.8707, 0.8486, 0.9608, 0.9565, 0.8765, 0.8569, 0.9484, 0.952, 0.8921, 0.9174, 0.8314, 0.924, 0.9879, 0.9648, 0.9333, 0.9145, 0.964, 0.9258, 0.9454, 0.932, 0.9306, 0.9716]\n",
      "The outputs of the nodes in hidden layer number 3 is [1.0, 1.0, 1.0, 1.0, 1.0, 1.0, 1.0, 1.0, 1.0, 1.0, 1.0, 1.0, 1.0, 1.0, 1.0, 1.0, 1.0, 1.0, 1.0, 1.0, 1.0, 1.0, 1.0, 1.0, 1.0, 1.0, 1.0, 1.0, 1.0, 1.0]\n",
      "The outputs of the nodes in hidden layer number 4 is [1.0, 1.0, 0.9999, 1.0, 1.0, 1.0, 1.0, 1.0, 1.0, 1.0, 1.0, 1.0, 1.0, 1.0, 1.0, 1.0, 1.0, 1.0, 1.0, 1.0, 1.0, 1.0, 1.0, 1.0, 1.0, 1.0, 1.0, 1.0, 1.0, 1.0, 1.0, 1.0, 1.0, 1.0, 1.0, 1.0, 1.0, 1.0, 1.0, 1.0]\n",
      "The outputs of the nodes in hidden layer number 5 is [1.0, 1.0, 1.0, 1.0, 1.0]\n",
      "The predicted values by the network for the given input are [0.9543, 0.9577, 0.9543, 0.9488, 0.937, 0.963, 0.9792]\n"
     ]
    }
   ],
   "source": [
    "predictions = forward_propagate(my_network, inputs)\n",
    "print('The predicted values by the network for the given input are {}'.format(predictions))"
   ]
  },
  {
   "cell_type": "markdown",
   "metadata": {},
   "source": [
    "Feel free to play around with the code by creating different networks of different structures and enjoy making predictions using the *forward_propagate* function."
   ]
  },
  {
   "cell_type": "code",
   "execution_count": 21,
   "metadata": {},
   "outputs": [
    {
     "name": "stdout",
     "output_type": "stream",
     "text": [
      "The outputs of the nodes in hidden layer number 1 is [0.7545, 0.7974, 0.8686, 0.8269]\n",
      "The outputs of the nodes in hidden layer number 2 is [0.8814, 0.8855, 0.8524, 0.857, 0.8774, 0.8814, 0.8049, 0.8416, 0.9022, 0.9108, 0.8697, 0.8779, 0.8893, 0.8792, 0.7586, 0.8098, 0.8464, 0.9187, 0.923, 0.9147, 0.8714, 0.8935, 0.9, 0.8352, 0.8472, 0.9049, 0.8513, 0.9238, 0.8819, 0.8966, 0.7184, 0.9084, 0.8406, 0.7947, 0.7805, 0.8355, 0.9386, 0.9056, 0.909, 0.9165]\n",
      "The outputs of the nodes in hidden layer number 3 is [1.0, 1.0, 1.0, 1.0, 1.0, 1.0, 1.0, 1.0, 1.0, 1.0, 1.0, 1.0, 1.0, 1.0, 1.0, 1.0, 1.0, 1.0, 1.0, 1.0, 1.0, 1.0, 1.0, 1.0, 1.0, 1.0, 1.0, 1.0, 1.0, 1.0]\n",
      "The outputs of the nodes in hidden layer number 4 is [1.0, 1.0, 1.0, 1.0]\n",
      "The predicted values by the network for the given input are [0.9756, 0.922, 0.9011, 0.9565, 0.9234, 0.9589, 0.7631, 0.9105, 0.8744, 0.9321, 0.8557, 0.7291, 0.9047, 0.9601, 0.9707, 0.8085, 0.9597, 0.968, 0.9612, 0.9483, 0.9129, 0.8618, 0.8957, 0.9416, 0.9535, 0.9503, 0.9535, 0.9153, 0.9437, 0.9866, 0.9153, 0.9089, 0.953, 0.9432, 0.9573, 0.9701, 0.9198, 0.9761, 0.9779, 0.9393, 0.8732, 0.9577, 0.8975, 0.8938, 0.8818, 0.9002, 0.9289, 0.937, 0.8375, 0.9399, 0.9002, 0.8235, 0.8264, 0.8581, 0.9674, 0.8402, 0.9627, 0.9302, 0.9517, 0.8205, 0.9503, 0.9255, 0.9488, 0.9234, 0.8442, 0.9047, 0.968, 0.9605, 0.8732, 0.7577]\n"
     ]
    }
   ],
   "source": [
    "my_network = initialize_network(4, 4, [4, 40, 30, 4], 70)\n",
    "inputs = np.around(np.random.uniform(size=4), decimals=2)\n",
    "predictions = forward_propagate(my_network, inputs)\n",
    "print('The predicted values by the network for the given input are {}'.format(predictions))"
   ]
  },
  {
   "cell_type": "code",
   "execution_count": 23,
   "metadata": {},
   "outputs": [
    {
     "name": "stdout",
     "output_type": "stream",
     "text": [
      "The outputs of the nodes in hidden layer number 1 is [0.9643, 0.9765, 0.9444, 0.9489, 0.9572, 0.9649, 0.9254, 0.9683, 0.9759, 0.9255]\n",
      "The outputs of the nodes in hidden layer number 2 is [0.993, 0.9763, 0.9881, 0.9985, 0.9955, 0.9967, 0.9977, 0.9951, 0.9956]\n",
      "The outputs of the nodes in hidden layer number 3 is [0.9915, 0.9908, 0.9938, 0.9909, 0.9904, 0.9988, 0.9808, 0.9686]\n",
      "The outputs of the nodes in hidden layer number 4 is [0.987, 0.9489, 0.988, 0.994, 0.9887, 0.9954, 0.9875]\n",
      "The outputs of the nodes in hidden layer number 5 is [0.9853, 0.9913, 0.9767, 0.9773, 0.9948, 0.9901]\n",
      "The outputs of the nodes in hidden layer number 6 is [0.957, 0.9733, 0.9492, 0.9908, 0.959]\n",
      "The outputs of the nodes in hidden layer number 7 is [0.8081, 0.9234, 0.9174, 0.9222]\n",
      "The outputs of the nodes in hidden layer number 8 is [0.9613, 0.9454, 0.9007]\n",
      "The outputs of the nodes in hidden layer number 9 is [0.9139, 0.8173]\n",
      "The outputs of the nodes in hidden layer number 10 is [0.889, 0.7223, 0.8041, 0.8872, 0.8257, 0.8043, 0.7925, 0.7911, 0.7303, 0.8344]\n",
      "The predicted values by the network for the given input are [0.9948, 0.9963, 0.9932, 0.9616, 0.9779, 0.946, 0.9646, 0.9481, 0.9953, 0.9934, 0.9956, 0.9771, 0.9868, 0.9945, 0.9752, 0.9874, 0.9797, 0.9664, 0.9887, 0.9951, 0.9925, 0.9915, 0.9525, 0.9896, 0.9956, 0.9826, 0.9922, 0.9887, 0.994, 0.9775, 0.9243, 0.9672, 0.9953, 0.9768, 0.9832, 0.9878, 0.9966, 0.9957, 0.9792, 0.987, 0.9944, 0.9936, 0.9646, 0.9961, 0.9898, 0.9795, 0.9877, 0.9855, 0.9895, 0.9914, 0.9935, 0.9949, 0.9229, 0.9953, 0.9967, 0.9755, 0.98, 0.9901, 0.9962, 0.9857, 0.9859, 0.9946, 0.9948, 0.9874, 0.989, 0.9941, 0.9913, 0.9834, 0.9977, 0.9979, 0.9902, 0.9976, 0.9857, 0.9962, 0.9838, 0.9887, 0.9961, 0.9978, 0.9665, 0.9818, 0.9907, 0.9928, 0.9937, 0.9927, 0.9867, 0.9952, 0.9746, 0.9904, 0.986, 0.9668, 0.9898, 0.9809, 0.9964, 0.993, 0.9788, 0.9885, 0.9958, 0.9913, 0.9875, 0.969, 0.9961, 0.979, 0.9621, 0.9877, 0.9933, 0.9714, 0.9945, 0.9913, 0.9767, 0.9905, 0.9979, 0.9972, 0.9865, 0.9924, 0.9945, 0.9926, 0.9837, 0.9964, 0.9864, 0.9954, 0.9954, 0.9885, 0.9756, 0.9768, 0.9625, 0.9566, 0.9943, 0.9943, 0.9966, 0.983, 0.988, 0.9776, 0.9901, 0.9893, 0.9965, 0.9757, 0.9905, 0.9635, 0.9812, 0.9513, 0.9866, 0.9921, 0.9952, 0.9806, 0.9956, 0.9946, 0.9968, 0.9913, 0.995, 0.9964, 0.9933, 0.9841, 0.9919, 0.9942, 0.9744, 0.9771, 0.9854, 0.9918, 0.9667, 0.9879, 0.9889, 0.9895, 0.9916, 0.9843, 0.996, 0.9656, 0.9921, 0.9924, 0.9922, 0.9931, 0.9694, 0.996, 0.999, 0.9781, 0.9767, 0.9545, 0.9777, 0.9705, 0.9847, 0.9715, 0.9608, 0.9734, 0.9875, 0.99, 0.9959, 0.9681, 0.9938, 0.9929, 0.9928, 0.9933, 0.9822, 0.9989, 0.9934, 0.923, 0.9946, 0.9674, 0.9952, 0.9971, 0.9753, 0.9802, 0.9946, 0.9859, 0.9975, 0.9935, 0.9834, 0.9601, 0.9751, 0.9921, 0.9977, 0.9875, 0.9966, 0.9937, 0.9717, 0.9936, 0.9891, 0.9832, 0.992, 0.9731, 0.9808, 0.9933, 0.9885, 0.9756, 0.9718, 0.9965, 0.9989, 0.9752, 0.9608, 0.9974, 0.9943, 0.9946, 0.9775, 0.9936, 0.9886, 0.9902, 0.9806, 0.9951, 0.9672, 0.992, 0.9961, 0.9497, 0.9978, 0.9646, 0.972, 0.9878, 0.9812, 0.9896, 0.9735, 0.9838, 0.9918, 0.9835, 0.9745, 0.9916, 0.968, 0.9893, 0.9918, 0.9926, 0.9977, 0.9929, 0.9905, 0.9874, 0.9682, 0.9926, 0.9886, 0.9833, 0.9652, 0.9974, 0.9915, 0.9961, 0.9576, 0.9957, 0.9838, 0.9952, 0.9949, 0.995, 0.9853, 0.9815, 0.9871, 0.9864, 0.9474, 0.9964, 0.9865, 0.9768, 0.9266, 0.9917, 0.9926, 0.9683, 0.9941, 0.9971, 0.9934, 0.9929, 0.9884, 0.9744, 0.9819, 0.9928, 0.9751, 0.9978, 0.9912, 0.9752, 0.9755, 0.9847, 0.9321, 0.9982, 0.9957, 0.9949, 0.992, 0.9933, 0.9739, 0.9881, 0.9964, 0.9845, 0.9877, 0.9907, 0.9968, 0.9891, 0.9843, 0.9749, 0.9964, 0.9847, 0.9883, 0.9899, 0.9951, 0.9964, 0.9836, 0.9929, 0.9961, 0.9937, 0.9954, 0.9974, 0.9792, 0.9766, 0.988, 0.9952, 0.9929, 0.9957, 0.9882, 0.9814, 0.984, 0.9885, 0.9929, 0.9932, 0.9882, 0.9797, 0.9692, 0.9936, 0.9947, 0.9728, 0.9846, 0.9972, 0.9857, 0.9808, 0.982, 0.991, 0.997, 0.9891, 0.9919, 0.9954, 0.9882, 0.9871, 0.9948, 0.971, 0.9951, 0.9959, 0.9975, 0.9787, 0.9908, 0.9797, 0.9859, 0.9845, 0.9943, 0.9877, 0.9874, 0.9889, 0.9848, 0.9971, 0.9719, 0.9886, 0.9811, 0.998, 0.9828, 0.9825, 0.995, 0.9943, 0.9899, 0.995, 0.9915, 0.9873, 0.9949, 0.9936, 0.9961, 0.9805, 0.989, 0.9942, 0.9883, 0.9941, 0.9916, 0.9919, 0.9927, 0.9908, 0.9958, 0.985, 0.9968, 0.967, 0.9655, 0.9948, 0.9861, 0.9736, 0.9899, 0.9965, 0.9543, 0.9931, 0.9856, 0.9308, 0.9783, 0.9923, 0.9924, 0.9778, 0.9959, 0.9858, 0.9946, 0.9795, 0.9896, 0.9963, 0.9967, 0.999, 0.9769, 0.9773, 0.9835, 0.9928, 0.967, 0.9903, 0.9965, 0.9938, 0.984, 0.9918, 0.9957, 0.9926, 0.9946, 0.9403, 0.9647, 0.9948, 0.9903, 0.9981, 0.9828, 0.9847, 0.9947, 0.9851, 0.9881, 0.9399, 0.9966, 0.9732, 0.9888, 0.992, 0.9655, 0.9961, 0.9924, 0.9867, 0.9926, 0.9651, 0.9911, 0.9772, 0.9947, 0.9885, 0.9938, 0.9775, 0.9955, 0.9705, 0.9939, 0.9858, 0.9972, 0.9889, 0.9943, 0.9945, 0.9883, 0.9739, 0.9913, 0.9937, 0.9913, 0.9871, 0.9918, 0.9922, 0.9693, 0.9939, 0.9889, 0.9848, 0.9955, 0.993, 0.9954, 0.9935, 0.9796, 0.9954, 0.9924, 0.989, 0.97, 0.9868, 0.9941, 0.9904, 0.9987, 0.9981, 0.9805, 0.9963, 0.9928, 0.9931, 0.9916, 0.9851, 0.9658, 0.9901, 0.9956, 0.9856, 0.9939, 0.9652, 0.9936, 0.9925, 0.9781, 0.9869, 0.9912, 0.9875, 0.9952, 0.9464, 0.9899, 0.9983, 0.9936, 0.9881, 0.996, 0.9771, 0.988, 0.9391, 0.9911, 0.993, 0.9911, 0.9932, 0.9772, 0.9765, 0.9962, 0.9697, 0.9855, 0.9684, 0.985, 0.9757, 0.9751, 0.9749, 0.9817, 0.9895, 0.9865, 0.9934, 0.9941, 0.9981, 0.9843, 0.9963, 0.9875, 0.9923, 0.9631, 0.9966, 0.9874, 0.9598, 0.9412, 0.9864, 0.9896, 0.9753, 0.9926, 0.9961, 0.9975, 0.9904, 0.9507, 0.974, 0.9492, 0.9947, 0.924, 0.9876, 0.991, 0.9866, 0.9895, 0.9879, 0.9776, 0.9889, 0.9946, 0.9787, 0.9901, 0.9757, 0.9723, 0.9804, 0.9826, 0.9955, 0.996, 0.9986, 0.9924, 0.9913, 0.992, 0.9926, 0.9936, 0.9941, 0.9861, 0.9966, 0.9904, 0.9952, 0.9911, 0.9948, 0.9955, 0.9918, 0.9942, 0.9919, 0.9948, 0.9868, 0.9688, 0.9854, 0.9824, 0.98, 0.9685, 0.9592, 0.998, 0.9876, 0.9718, 0.991, 0.9977, 0.991, 0.9957, 0.994, 0.9906, 0.9806, 0.9963, 0.9757, 0.9926, 0.9815, 0.9895, 0.9913, 0.9824, 0.9717, 0.9871, 0.9958, 0.9901, 0.9903, 0.9897, 0.984, 0.9882, 0.9846, 0.9901, 0.9877, 0.9914, 0.9909, 0.9975, 0.9759, 0.9842, 0.9889, 0.9948, 0.9861, 0.9968, 0.9911, 0.9941, 0.9964, 0.9803, 0.9919, 0.9926, 0.9978, 0.9931, 0.9818, 0.9668, 0.9946, 0.9603, 0.9645, 0.9871, 0.9461, 0.9962, 0.9944, 0.9919, 0.9845, 0.992, 0.987, 0.9925, 0.9879, 0.9763, 0.9758, 0.9872, 0.9857, 0.9961, 0.9858, 0.9754, 0.9506, 0.992, 0.9842, 0.9949, 0.9938, 0.9943, 0.9805, 0.9779, 0.9923, 0.9906, 0.9785, 0.9939, 0.9749, 0.9907, 0.9919, 0.9954, 0.9913, 0.974, 0.9961, 0.9801, 0.9875, 0.9926, 0.9971, 0.9797, 0.9913, 0.9897, 0.9785, 0.9684, 0.9831, 0.9841, 0.9952, 0.9964, 0.9837, 0.988, 0.9891, 0.9898, 0.9949, 0.9908, 0.9475, 0.9912, 0.9928, 0.9658, 0.9799, 0.9699, 0.9658, 0.9922, 0.9858, 0.991, 0.9761, 0.9944, 0.9911, 0.9945, 0.9903, 0.9971, 0.9808, 0.992, 0.9903, 0.9938, 0.9925, 0.9476, 0.9947, 0.9775, 0.9861, 0.9958, 0.9793, 0.9845, 0.9911, 0.994, 0.9732, 0.99, 0.9892, 0.9915, 0.9909, 0.9968, 0.9834, 0.9705, 0.9905, 0.9803, 0.9766, 0.9926, 0.9846, 0.9918, 0.994, 0.9776, 0.987, 0.9856, 0.9889, 0.9812, 0.9836, 0.9788, 0.9939, 0.9951, 0.9971, 0.9895, 0.9897, 0.995, 0.9749, 0.9933, 0.9944, 0.9939, 0.995, 0.9269, 0.9712, 0.998, 0.9987, 0.9751, 0.9966, 0.9905, 0.9904, 0.9909, 0.9951, 0.9828, 0.991, 0.9864, 0.9853, 0.9898, 0.9757, 0.9674, 0.9802, 0.9888, 0.996, 0.9954, 0.9952, 0.9916, 0.9957, 0.984, 0.9907, 0.891, 0.995, 0.9947, 0.9923, 0.9697, 0.997, 0.9876, 0.9922, 0.9802, 0.982, 0.9986, 0.9871, 0.9825, 0.9936, 0.9797, 0.9468, 0.9748, 0.9913, 0.9859, 0.9929, 0.9892, 0.9928, 0.9862, 0.9912, 0.9879, 0.9928, 0.9602, 0.9931, 0.9953, 0.9942, 0.9832, 0.9978, 0.9895, 0.9987, 0.9852, 0.9824, 0.9937, 0.983, 0.9925, 0.9975, 0.9962, 0.9636, 0.9918, 0.9958, 0.9967, 0.994, 0.9902, 0.9985, 0.9815, 0.987, 0.9962, 0.9417, 0.9909, 0.9921, 0.9851, 0.9802, 0.9873, 0.9979, 0.981, 0.9948, 0.9973, 0.9938, 0.9871, 0.9935, 0.9938, 0.9846, 0.9937, 0.9842, 0.9946, 0.9963, 0.9953, 0.9859, 0.9948, 0.9955, 0.9925, 0.9952, 0.9884, 0.9894, 0.997, 0.9915, 0.9949, 0.9913, 0.9845, 0.9822, 0.9856, 0.9595, 0.9887, 0.968, 0.9886, 0.9975, 0.9657, 0.9901, 0.9967, 0.9529, 0.9976, 0.97, 0.9936, 0.9702, 0.9949, 0.9933, 0.9977, 0.9946, 0.9851, 0.9887, 0.98, 0.9978, 0.9861, 0.9762, 0.9906, 0.9872, 0.9876, 0.9914, 0.9958, 0.9969, 0.9868, 0.9565, 0.9776, 0.994, 0.9468, 0.9818, 0.9931, 0.9929, 0.9883, 0.9852, 0.9932, 0.9929, 0.9817, 0.9915, 0.9874, 0.9887, 0.9862, 0.9838, 0.98, 0.9946, 0.9751, 0.9769, 0.9917, 0.9755, 0.9759, 0.993, 0.9731, 0.9654, 0.9916, 0.997, 0.9924, 0.9757, 0.9923, 0.9966, 0.996, 0.9838, 0.998, 0.9854, 0.9894, 0.9812, 0.9893, 0.9958, 0.9982, 0.9893, 0.9847, 0.9949, 0.9917, 0.9835, 0.9961, 0.9737, 0.9817, 0.9509, 0.9803, 0.9922, 0.9988, 0.9974, 0.9709, 0.9886, 0.9878, 0.9662, 0.9889, 0.9933, 0.9739, 0.9908, 0.9942, 0.9711, 0.9944, 0.9836, 0.9966, 0.9879, 0.9861, 0.9913, 0.9955, 0.9869, 0.9802, 0.9866, 0.9875, 0.9963, 0.9784, 0.9944, 0.9651, 0.9976, 0.9884, 0.9429]\n"
     ]
    }
   ],
   "source": [
    "my_network = initialize_network(10, 10, [10, 9, 8, 7, 6, 5, 4, 3, 2, 10], 1000)\n",
    "inputs = np.around(np.random.uniform(size=10), decimals=2)\n",
    "predictions = forward_propagate(my_network, inputs)\n",
    "print('The predicted values by the network for the given input are {}'.format(predictions))"
   ]
  },
  {
   "cell_type": "code",
   "execution_count": null,
   "metadata": {},
   "outputs": [],
   "source": []
  }
 ],
 "metadata": {
  "kernelspec": {
   "display_name": "Python 3",
   "language": "python",
   "name": "python3"
  },
  "language_info": {
   "codemirror_mode": {
    "name": "ipython",
    "version": 3
   },
   "file_extension": ".py",
   "mimetype": "text/x-python",
   "name": "python",
   "nbconvert_exporter": "python",
   "pygments_lexer": "ipython3",
   "version": "3.6.6"
  }
 },
 "nbformat": 4,
 "nbformat_minor": 2
}
