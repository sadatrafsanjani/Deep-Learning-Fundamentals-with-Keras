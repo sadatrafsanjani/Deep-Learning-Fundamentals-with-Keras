{
 "cells": [
  {
   "cell_type": "markdown",
   "metadata": {},
   "source": [
    "<h1 align=center><font size = 5>Deep Convolutional Neural Network</font></h1>"
   ]
  },
  {
   "cell_type": "code",
   "execution_count": 1,
   "metadata": {},
   "outputs": [
    {
     "name": "stderr",
     "output_type": "stream",
     "text": [
      "Using TensorFlow backend.\n"
     ]
    }
   ],
   "source": [
    "import keras\n",
    "from keras.models import Sequential\n",
    "from keras.layers import Dense\n",
    "from keras.utils import to_categorical\n",
    "from keras.layers.convolutional import Conv2D # to add convolutional layers\n",
    "from keras.layers.convolutional import MaxPooling2D # to add pooling layers\n",
    "from keras.layers import Flatten # to flatten data for fully connected layers\n",
    "from keras.datasets import mnist"
   ]
  },
  {
   "cell_type": "code",
   "execution_count": 2,
   "metadata": {},
   "outputs": [],
   "source": [
    "(X_train, y_train), (X_test, y_test) = mnist.load_data()"
   ]
  },
  {
   "cell_type": "code",
   "execution_count": 3,
   "metadata": {},
   "outputs": [],
   "source": [
    "# reshape to be [samples][pixels][width][height]\n",
    "X_train = X_train.reshape(X_train.shape[0], 28, 28, 1).astype('float32')\n",
    "X_test = X_test.reshape(X_test.shape[0], 28, 28, 1).astype('float32')"
   ]
  },
  {
   "cell_type": "code",
   "execution_count": 4,
   "metadata": {},
   "outputs": [],
   "source": [
    "X_train = X_train / 255 # normalize training data\n",
    "X_test = X_test / 255 # normalize test data"
   ]
  },
  {
   "cell_type": "markdown",
   "metadata": {},
   "source": [
    "Next, let's convert the target variable into binary categories"
   ]
  },
  {
   "cell_type": "code",
   "execution_count": 4,
   "metadata": {},
   "outputs": [],
   "source": [
    "y_train = to_categorical(y_train)\n",
    "y_test = to_categorical(y_test)\n",
    "\n",
    "num_classes = y_test.shape[1] # number of categories"
   ]
  },
  {
   "cell_type": "code",
   "execution_count": 8,
   "metadata": {},
   "outputs": [],
   "source": [
    "def convolutional_model():\n",
    "    \n",
    "    # Input Layer\n",
    "    model = Sequential()\n",
    "    model.add(Conv2D(16, (5, 5), activation='relu', input_shape=(28, 28, 1)))\n",
    "    model.add(MaxPooling2D(pool_size=(2, 2), strides=(2, 2)))\n",
    "    \n",
    "    # Hidden Layer\n",
    "    model.add(Conv2D(32, (2, 2), activation='relu'))\n",
    "    model.add(MaxPooling2D(pool_size=(2, 2), strides=(2, 2)))\n",
    "    \n",
    "    model.add(Conv2D(64, (2, 2), activation='relu'))\n",
    "    model.add(MaxPooling2D(pool_size=(2, 2), strides=(2, 2)))\n",
    "    \n",
    "    # Output Layer\n",
    "    model.add(Flatten())\n",
    "    model.add(Dense(units=100, activation='relu'))\n",
    "    model.add(Dense(units=num_classes, activation='softmax'))\n",
    "    \n",
    "    \n",
    "    model.compile(optimizer='adam', loss='categorical_crossentropy',  metrics=['accuracy']) # Compiling\n",
    "    \n",
    "    return model"
   ]
  },
  {
   "cell_type": "code",
   "execution_count": 9,
   "metadata": {},
   "outputs": [
    {
     "name": "stdout",
     "output_type": "stream",
     "text": [
      "Train on 60000 samples, validate on 10000 samples\n",
      "Epoch 1/10\n",
      " - 47s - loss: 2.3033 - acc: 0.7905 - val_loss: 0.1362 - val_acc: 0.9584\n",
      "Epoch 2/10\n",
      " - 46s - loss: 0.1121 - acc: 0.9666 - val_loss: 0.0824 - val_acc: 0.9747\n",
      "Epoch 3/10\n",
      " - 46s - loss: 0.0721 - acc: 0.9772 - val_loss: 0.0684 - val_acc: 0.9799\n",
      "Epoch 4/10\n",
      " - 45s - loss: 0.0542 - acc: 0.9829 - val_loss: 0.0675 - val_acc: 0.9800\n",
      "Epoch 5/10\n",
      " - 46s - loss: 0.0442 - acc: 0.9861 - val_loss: 0.0582 - val_acc: 0.9842\n",
      "Epoch 6/10\n",
      " - 45s - loss: 0.0364 - acc: 0.9884 - val_loss: 0.0656 - val_acc: 0.9816\n",
      "Epoch 7/10\n",
      " - 46s - loss: 0.0316 - acc: 0.9894 - val_loss: 0.0547 - val_acc: 0.9842\n",
      "Epoch 8/10\n",
      " - 46s - loss: 0.0285 - acc: 0.9908 - val_loss: 0.0608 - val_acc: 0.9832\n",
      "Epoch 9/10\n",
      " - 46s - loss: 0.0237 - acc: 0.9923 - val_loss: 0.0601 - val_acc: 0.9835\n",
      "Epoch 10/10\n",
      " - 47s - loss: 0.0262 - acc: 0.9913 - val_loss: 0.0537 - val_acc: 0.9859\n",
      "Accuracy: 0.9859 \n",
      " Error: 1.4099999999999966\n"
     ]
    }
   ],
   "source": [
    "model = convolutional_model()\n",
    "model.fit(X_train, y_train, validation_data=(X_test, y_test), epochs=10, batch_size=200, verbose=2)\n",
    "\n",
    "scores = model.evaluate(X_test, y_test, verbose=0)\n",
    "print(\"Accuracy: {} \\n Error: {}\".format(scores[1], 100-scores[1]*100))"
   ]
  },
  {
   "cell_type": "code",
   "execution_count": null,
   "metadata": {},
   "outputs": [],
   "source": []
  }
 ],
 "metadata": {
  "kernelspec": {
   "display_name": "Python 3",
   "language": "python",
   "name": "python3"
  },
  "language_info": {
   "codemirror_mode": {
    "name": "ipython",
    "version": 3
   },
   "file_extension": ".py",
   "mimetype": "text/x-python",
   "name": "python",
   "nbconvert_exporter": "python",
   "pygments_lexer": "ipython3",
   "version": "3.6.6"
  }
 },
 "nbformat": 4,
 "nbformat_minor": 2
}
