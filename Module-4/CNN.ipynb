{
 "cells": [
  {
   "cell_type": "markdown",
   "metadata": {},
   "source": [
    "<h1 align=center><font size = 5>Convolutional Neural Network</font></h1>"
   ]
  },
  {
   "cell_type": "code",
   "execution_count": 2,
   "metadata": {},
   "outputs": [],
   "source": [
    "import keras\n",
    "from keras.models import Sequential\n",
    "from keras.layers import Dense\n",
    "from keras.utils import to_categorical\n",
    "from keras.layers.convolutional import Conv2D # to add convolutional layers\n",
    "from keras.layers.convolutional import MaxPooling2D # to add pooling layers\n",
    "from keras.layers import Flatten # to flatten data for fully connected layers\n",
    "from keras.datasets import mnist"
   ]
  },
  {
   "cell_type": "code",
   "execution_count": 3,
   "metadata": {},
   "outputs": [],
   "source": [
    "(X_train, y_train), (X_test, y_test) = mnist.load_data()"
   ]
  },
  {
   "cell_type": "code",
   "execution_count": 14,
   "metadata": {},
   "outputs": [],
   "source": [
    "# reshape to be [samples][pixels][width][height]\n",
    "X_train = X_train.reshape(X_train.shape[0], 28, 28, 1).astype('float32')\n",
    "X_test = X_test.reshape(X_test.shape[0], 28, 28, 1).astype('float32')"
   ]
  },
  {
   "cell_type": "markdown",
   "metadata": {},
   "source": [
    "Let's normalize the pixel values to be between 0 and 1"
   ]
  },
  {
   "cell_type": "code",
   "execution_count": 6,
   "metadata": {},
   "outputs": [],
   "source": [
    "X_train = X_train / 255 # normalize training data\n",
    "X_test = X_test / 255 # normalize test data"
   ]
  },
  {
   "cell_type": "markdown",
   "metadata": {},
   "source": [
    "Next, let's convert the target variable into binary categories"
   ]
  },
  {
   "cell_type": "code",
   "execution_count": 20,
   "metadata": {},
   "outputs": [],
   "source": [
    "y_train = to_categorical(y_train)\n",
    "y_test = to_categorical(y_test)\n",
    "num_classes = y_test.shape[1] # number of categories"
   ]
  },
  {
   "cell_type": "markdown",
   "metadata": {},
   "source": [
    "### Network"
   ]
  },
  {
   "cell_type": "code",
   "execution_count": 19,
   "metadata": {},
   "outputs": [],
   "source": [
    "def convolutional_model():\n",
    "    \n",
    "    # Input Layer \n",
    "    model = Sequential()\n",
    "    model.add(Conv2D(16, (5, 5), strides=(1, 1), activation='relu', input_shape=(28, 28, 1))) # Convolution\n",
    "    model.add(MaxPooling2D(pool_size=(2, 2), strides=(2, 2))) # Pooling\n",
    "    \n",
    "    # Output Layer\n",
    "    model.add(Flatten())\n",
    "    model.add(Dense(units=100, activation='relu')) # A fully-connected layer with 64 hidden units\n",
    "    \n",
    "    model.add(Dense(units=num_classes, activation='softmax')) # Output layer\n",
    "    \n",
    "    model.compile(optimizer='adam', loss='categorical_crossentropy',  metrics=['accuracy']) # compilation\n",
    "    \n",
    "    return model"
   ]
  },
  {
   "cell_type": "markdown",
   "metadata": {},
   "source": [
    "### Training"
   ]
  },
  {
   "cell_type": "code",
   "execution_count": 11,
   "metadata": {},
   "outputs": [
    {
     "name": "stdout",
     "output_type": "stream",
     "text": [
      "Train on 60000 samples, validate on 10000 samples\n",
      "Epoch 1/10\n",
      " - 38s - loss: 0.2852 - acc: 0.9212 - val_loss: 0.0987 - val_acc: 0.9705\n",
      "Epoch 2/10\n",
      " - 37s - loss: 0.0792 - acc: 0.9772 - val_loss: 0.0584 - val_acc: 0.9819\n",
      "Epoch 3/10\n",
      " - 38s - loss: 0.0530 - acc: 0.9847 - val_loss: 0.0463 - val_acc: 0.9858\n",
      "Epoch 4/10\n",
      " - 40s - loss: 0.0420 - acc: 0.9876 - val_loss: 0.0443 - val_acc: 0.9864\n",
      "Epoch 5/10\n",
      " - 37s - loss: 0.0329 - acc: 0.9906 - val_loss: 0.0385 - val_acc: 0.9862\n",
      "Epoch 6/10\n",
      " - 37s - loss: 0.0289 - acc: 0.9913 - val_loss: 0.0358 - val_acc: 0.9883\n",
      "Epoch 7/10\n",
      " - 40s - loss: 0.0238 - acc: 0.9925 - val_loss: 0.0373 - val_acc: 0.9881\n",
      "Epoch 8/10\n",
      " - 39s - loss: 0.0201 - acc: 0.9934 - val_loss: 0.0374 - val_acc: 0.9886\n",
      "Epoch 9/10\n",
      " - 38s - loss: 0.0163 - acc: 0.9950 - val_loss: 0.0362 - val_acc: 0.9884\n",
      "Epoch 10/10\n",
      " - 37s - loss: 0.0129 - acc: 0.9962 - val_loss: 0.0380 - val_acc: 0.9880\n"
     ]
    },
    {
     "data": {
      "text/plain": [
       "<keras.callbacks.History at 0x7d022c63c8>"
      ]
     },
     "execution_count": 11,
     "metadata": {},
     "output_type": "execute_result"
    }
   ],
   "source": [
    "model = convolutional_model()\n",
    "model.fit(X_train, y_train, validation_data=(X_test, y_test), epochs=10, batch_size=200, verbose=2)"
   ]
  },
  {
   "cell_type": "code",
   "execution_count": 15,
   "metadata": {},
   "outputs": [
    {
     "name": "stdout",
     "output_type": "stream",
     "text": [
      "Accuracy: 0.988 \n",
      " Error: 1.2000000000000028\n"
     ]
    }
   ],
   "source": [
    "scores = model.evaluate(X_test, y_test, verbose=0)\n",
    "print(\"Accuracy: {} \\n Error: {}\".format(scores[1], 100-scores[1]*100))"
   ]
  },
  {
   "cell_type": "code",
   "execution_count": null,
   "metadata": {},
   "outputs": [],
   "source": []
  }
 ],
 "metadata": {
  "kernelspec": {
   "display_name": "Python 3",
   "language": "python",
   "name": "python3"
  },
  "language_info": {
   "codemirror_mode": {
    "name": "ipython",
    "version": 3
   },
   "file_extension": ".py",
   "mimetype": "text/x-python",
   "name": "python",
   "nbconvert_exporter": "python",
   "pygments_lexer": "ipython3",
   "version": "3.6.6"
  }
 },
 "nbformat": 4,
 "nbformat_minor": 2
}
